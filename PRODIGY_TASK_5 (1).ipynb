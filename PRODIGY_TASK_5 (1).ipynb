{
  "nbformat": 4,
  "nbformat_minor": 0,
  "metadata": {
    "colab": {
      "private_outputs": true,
      "provenance": []
    },
    "kernelspec": {
      "name": "python3",
      "display_name": "Python 3"
    },
    "language_info": {
      "name": "python"
    }
  },
  "cells": [
    {
      "cell_type": "markdown",
      "source": [
        "TASK **5**"
      ],
      "metadata": {
        "id": "EFd00J0SCm-h"
      }
    },
    {
      "cell_type": "markdown",
      "source": [
        "Analyze traffic accident data to identify patterns related to road conditions, weather, and time of day. Visualize accident hotspots and contributing factors."
      ],
      "metadata": {
        "id": "MjcgJFjXFfNj"
      }
    },
    {
      "cell_type": "code",
      "source": [
        "# ======================================================\n",
        "# 📦 STEP 1: Import Required Libraries\n",
        "# ======================================================\n",
        "import pandas as pd\n",
        "import numpy as np\n",
        "import matplotlib.pyplot as plt\n",
        "import seaborn as sns\n",
        "import folium\n",
        "import geopandas as gpd\n",
        "from shapely.geometry import Point\n",
        "import warnings\n",
        "warnings.filterwarnings(\"ignore\")\n",
        "sns.set(style=\"whitegrid\")\n"
      ],
      "metadata": {
        "id": "YfNRcVIslxUX"
      },
      "execution_count": null,
      "outputs": []
    },
    {
      "cell_type": "code",
      "source": [
        "# ======================================================\n",
        "# 📥 STEP 2: Load Dataset\n",
        "# ======================================================\n",
        "file_path = \"/content/sampled_US_Accidents.csv\"\n",
        "df = pd.read_csv(file_path)\n",
        "print(f\"✅ Dataset loaded with shape: {df.shape}\")\n",
        "print(\"📌 Columns:\", df.columns.tolist())"
      ],
      "metadata": {
        "id": "tsfyFqXybTux"
      },
      "execution_count": null,
      "outputs": []
    },
    {
      "cell_type": "code",
      "source": [
        "# ======================================================\n",
        "# 🧹 STEP 3: Data Preprocessing\n",
        "# ======================================================\n",
        "\n",
        "# 3.1 Drop duplicates\n",
        "df.drop_duplicates(inplace=True)\n",
        "\n",
        "# 3.2 Convert Start_Time to datetime\n",
        "df['Start_Time'] = pd.to_datetime(df['Start_Time'], errors='coerce')\n",
        "\n",
        "# 3.3 Drop rows with missing key info\n",
        "df.dropna(subset=['Start_Time', 'Start_Lat', 'Start_Lng'], inplace=True)\n",
        "\n",
        "# 3.4 Extract time features\n",
        "df['Hour'] = df['Start_Time'].dt.hour\n",
        "df['Weekday'] = df['Start_Time'].dt.day_name()\n",
        "df['Month'] = df['Start_Time'].dt.month_name()\n",
        "\n",
        "# 3.5 Fill missing environmental values\n",
        "df['Weather_Condition'] = df['Weather_Condition'].fillna('Unknown')\n",
        "df['Visibility(mi)'] = df['Visibility(mi)'].fillna(df['Visibility(mi)'].median())\n",
        "df['Temperature(F)'] = df['Temperature(F)'].fillna(df['Temperature(F)'].median())\n",
        "df['Precipitation(in)'] = df['Precipitation(in)'].fillna(0)"
      ],
      "metadata": {
        "id": "eVR9pqBTbTrO"
      },
      "execution_count": null,
      "outputs": []
    },
    {
      "cell_type": "code",
      "source": [
        "# ======================================================\n",
        "# 📊 STEP 4: Exploratory Analysis\n",
        "# ======================================================\n",
        "\n",
        "# 4.1 Accidents by Hour\n",
        "plt.figure(figsize=(10,5))\n",
        "sns.countplot(x='Hour', data=df, palette='plasma')\n",
        "plt.title(\"Accidents by Hour of Day\", fontsize=14)\n",
        "plt.xlabel(\"Hour\")\n",
        "plt.ylabel(\"Number of Accidents\")\n",
        "plt.tight_layout()\n",
        "plt.show()\n",
        "\n",
        "# 4.2 Accidents by Day of the Week\n",
        "plt.figure(figsize=(10,5))\n",
        "order = ['Monday', 'Tuesday', 'Wednesday', 'Thursday', 'Friday', 'Saturday', 'Sunday']\n",
        "sns.countplot(x='Weekday', data=df, order=order, palette='Set2')\n",
        "plt.title(\"Accidents by Weekday\", fontsize=14)\n",
        "plt.tight_layout()\n",
        "plt.show()\n",
        "\n",
        "# 4.3 Weather Conditions\n",
        "top_weather = df['Weather_Condition'].value_counts().nlargest(10).index\n",
        "plt.figure(figsize=(12,6))\n",
        "sns.countplot(y='Weather_Condition', data=df[df['Weather_Condition'].isin(top_weather)],\n",
        "              order=top_weather, palette='coolwarm')\n",
        "plt.title(\"Top 10 Weather Conditions During Accidents\", fontsize=14)\n",
        "plt.tight_layout()\n",
        "plt.show()\n",
        "\n",
        "# 4.4 Accidents by Month\n",
        "month_order = ['January','February','March','April','May','June',\n",
        "               'July','August','September','October','November','December']\n",
        "plt.figure(figsize=(12,5))\n",
        "sns.countplot(x='Month', data=df, order=month_order, palette='Spectral')\n",
        "plt.title(\"Monthly Accident Distribution\", fontsize=14)\n",
        "plt.xticks(rotation=45)\n",
        "plt.tight_layout()\n",
        "plt.show()\n"
      ],
      "metadata": {
        "id": "jPCkgw3YbTkD"
      },
      "execution_count": null,
      "outputs": []
    },
    {
      "cell_type": "code",
      "source": [
        "# ======================================================\n",
        "# 🗺️ STEP 5: Visualize Accident Hotspots\n",
        "# ======================================================\n",
        "\n",
        "# 5.1 Create GeoDataFrame\n",
        "gdf = gpd.GeoDataFrame(\n",
        "    df,\n",
        "    geometry=gpd.points_from_xy(df['Start_Lng'], df['Start_Lat']),\n",
        "    crs=\"EPSG:4326\"\n",
        ")\n",
        "\n",
        "# 5.2 Static Map (sample for speed)\n",
        "plt.figure(figsize=(10,6))\n",
        "gdf.sample(1000).plot(markersize=2, color='red', alpha=0.4)\n",
        "plt.title(\"US Accident Hotspots (Sample)\", fontsize=14)\n",
        "plt.xlabel(\"Longitude\")\n",
        "plt.ylabel(\"Latitude\")\n",
        "plt.tight_layout()\n",
        "plt.show()\n",
        "\n",
        "# 5.3 Interactive Map\n",
        "print(\"🌍 Creating interactive map...\")\n",
        "m = folium.Map(location=[39.5, -98.35], zoom_start=5)\n",
        "for _, row in df.sample(500).iterrows():\n",
        "    folium.CircleMarker(\n",
        "        location=[row['Start_Lat'], row['Start_Lng']],\n",
        "        radius=2,\n",
        "        color='crimson',\n",
        "        fill=True,\n",
        "        fill_opacity=0.4\n",
        "    ).add_to(m)\n",
        "\n",
        "m.save(\"us_accident_hotspots_map.html\")\n",
        "print(\"✅ Interactive map saved as 'us_accident_hotspots_map.html'\")"
      ],
      "metadata": {
        "id": "9nSfokAqbTgg"
      },
      "execution_count": null,
      "outputs": []
    },
    {
      "cell_type": "code",
      "source": [
        "# ======================================================\n",
        "# 🔬 STEP 6: Environmental Factor Distributions\n",
        "# ======================================================\n",
        "\n",
        "# 6.1 Visibility\n",
        "plt.figure(figsize=(10,5))\n",
        "sns.histplot(df['Visibility(mi)'], bins=40, kde=True, color='skyblue')\n",
        "plt.title(\"Visibility Distribution\", fontsize=14)\n",
        "plt.tight_layout()\n",
        "plt.show()\n",
        "\n",
        "# 6.2 Temperature\n",
        "plt.figure(figsize=(10,5))\n",
        "sns.histplot(df['Temperature(F)'], bins=40, kde=True, color='orange')\n",
        "plt.title(\"Temperature Distribution\", fontsize=14)\n",
        "plt.tight_layout()\n",
        "plt.show()\n",
        "\n",
        "# 6.3 Precipitation\n",
        "plt.figure(figsize=(10,5))\n",
        "sns.histplot(df['Precipitation(in)'], bins=40, kde=True, color='seagreen')\n",
        "plt.title(\"Precipitation Distribution\", fontsize=14)\n",
        "plt.tight_layout()\n",
        "plt.show()\n"
      ],
      "metadata": {
        "id": "E0FBa0e2bTeF"
      },
      "execution_count": null,
      "outputs": []
    },
    {
      "cell_type": "code",
      "source": [
        "# ======================================================\n",
        "# 💾 STEP 7: Save Cleaned Dataset\n",
        "# ======================================================\n",
        "df.to_csv(\"cleaned_sampled_US_Accidents.csv\", index=False)\n",
        "print(\"✅ Cleaned dataset saved as 'cleaned_sampled_US_Accidents.csv'\")\n"
      ],
      "metadata": {
        "id": "prLwX8g4bTb7"
      },
      "execution_count": null,
      "outputs": []
    },
    {
      "cell_type": "markdown",
      "source": [
        "✅ Conclusion\n",
        "This study analyzed a representative sample of U.S. traffic accident data to uncover meaningful patterns related to time, weather, road, and environmental conditions. The key insights are as follows:\n",
        "\n",
        "Time-of-Day and Week Trends: Accidents are most common during morning and evening rush hours, with Fridays showing the highest frequency. This reflects the influence of commuting and end-of-week traffic surges.\n",
        "\n",
        "Weather Conditions: Clear weather was the most frequent condition recorded, but severe weather types like fog, rain, and snow were more closely associated with increased accident severity.\n",
        "\n",
        "Monthly Trends: Accident occurrences showed seasonal variation, with notable peaks in the winter months — likely due to icy roads and limited visibility.\n",
        "\n",
        "Environmental Impact:\n",
        "\n",
        "Low visibility and extreme temperatures (both hot and cold) were common during accident events.\n",
        "\n",
        "Precipitation, although often zero, contributed to higher risk during rainfall or snowy days.\n",
        "\n",
        "Geographic Hotspots: Visualizations of geographic data highlighted urban clusters and highways as major accident-prone regions, supporting the need for targeted urban traffic policies.\n"
      ],
      "metadata": {
        "id": "Mv2SCyRnQexU"
      }
    },
    {
      "cell_type": "code",
      "source": [],
      "metadata": {
        "id": "0tsNRt02cPPt"
      },
      "execution_count": null,
      "outputs": []
    }
  ]
}